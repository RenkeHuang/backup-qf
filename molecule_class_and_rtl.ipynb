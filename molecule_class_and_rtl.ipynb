{
 "cells": [
  {
   "cell_type": "code",
   "execution_count": 1,
   "metadata": {},
   "outputs": [],
   "source": [
    "import qforte\n",
    "from qforte.rtl.rtl import rtl_energy"
   ]
  },
  {
   "cell_type": "markdown",
   "metadata": {},
   "source": [
    "# Example notebook for using QForte molecule class and using RTQL"
   ]
  },
  {
   "cell_type": "markdown",
   "metadata": {},
   "source": [
    "# Must use branch rtl_pilot"
   ]
  },
  {
   "cell_type": "markdown",
   "metadata": {},
   "source": [
    "NOTE: Before running this notebook you will need to have installed Psi4, OpenFermion, and the OpenFermion-Psi4 plugin. There are all avalible via intall through conda-forge and/or pip."
   ]
  },
  {
   "cell_type": "markdown",
   "metadata": {},
   "source": [
    "Initialize a QForte molecule, and specify what backend to use. Currently there is only support for using Openfermion-Psi4, but will eventually include direct conections to Psi4 and Forte. First we need to define some input arguments. "
   ]
  },
  {
   "cell_type": "code",
   "execution_count": 2,
   "metadata": {},
   "outputs": [],
   "source": [
    "# System factory arguments\n",
    "system_type = 'molecule'\n",
    "build_type = 'openfermion'\n",
    "\n",
    "\n",
    "# Molecule arguments\n",
    "geometry = [('Be', (0., 0., 0.))]\n",
    "basis = 'sto-3g'\n",
    "multiplicity = 1\n",
    "\n",
    "\n",
    "# Run arguments for backend\n",
    "run_scf = 1\n",
    "run_mp2 = 1\n",
    "run_ccsd = 1\n",
    "run_fci = 1"
   ]
  },
  {
   "cell_type": "markdown",
   "metadata": {},
   "source": [
    "We need to initialize an adapter object, wichin in trun is able to ruturn a molecule object."
   ]
  },
  {
   "cell_type": "code",
   "execution_count": 3,
   "metadata": {},
   "outputs": [
    {
     "name": "stdout",
     "output_type": "stream",
     "text": [
      "Using standard openfermion hamiltonian ordering!\n"
     ]
    }
   ],
   "source": [
    "# Initialize the adapter (specific to backend and system type)\n",
    "adapter = qforte.system.system_factory(mol_geometry=geometry, basis=basis,\n",
    "                                       multiplicity=1, description='h4_rtl_test_075')\n",
    "\n",
    "# Populate the attributes by calling run() with backend run args. we can store the ccsd\n",
    "# amplitudes \n",
    "adapter.run(run_scf=run_scf, run_mp2=run_mp2, run_ccsd=run_ccsd,\n",
    "                   run_fci=run_fci, store_uccsd_amps=True)\n"
   ]
  },
  {
   "cell_type": "markdown",
   "metadata": {},
   "source": [
    "Get the molecule from the adapter."
   ]
  },
  {
   "cell_type": "code",
   "execution_count": 11,
   "metadata": {},
   "outputs": [
    {
     "name": "stdout",
     "output_type": "stream",
     "text": [
      "Help on class Molecule in module qforte.system.molecular_info:\n",
      "\n",
      "class Molecule(builtins.object)\n",
      " |  Class for storing moleucular information. Should be instatiated using using\n",
      " |  a MolAdapter and populated by calling MolAdapter.run(**kwargs).\n",
      " |  \n",
      " |  \n",
      " |  Atributes\n",
      " |  ---------\n",
      " |  _mol_geometry : list of tuples\n",
      " |      Gives coordinates of each atom in Angstroms. Example format is\n",
      " |      geometry = [('H', (0., 0., 0.)), ('H', (0., 0., 1.50))].\n",
      " |  \n",
      " |  _basis : string\n",
      " |      Gives the basis set to be used. Default is 'sto-3g'.\n",
      " |  \n",
      " |  _multiplicity : int\n",
      " |      Gives the targeted spin multiplicity of the molecular system.\n",
      " |  \n",
      " |  _charge : int\n",
      " |      Gives the targeted net charge of the molecular system (controls number of\n",
      " |      electrons to be considered).\n",
      " |  \n",
      " |  _description : optional, string\n",
      " |      Recomeded to use to distingush various runs\n",
      " |      (for example with differnet bond lengths or geometric configurations),\n",
      " |      if populated using a OpenFermionMolAdapter.\n",
      " |  \n",
      " |  \n",
      " |  _filename : optional, string\n",
      " |      Specifies the name of the .hdf5 file molecular data from psi4/pyscf\n",
      " |      calculation will be stored in, if populated using a\n",
      " |      OpenFermionMolAdapter.\n",
      " |  \n",
      " |  _hdf5_dir : optional, string\n",
      " |      Specifies the directory in which to store the .hdf5 file molecular\n",
      " |      data from psi4/pyscf calculation will be stored in.\n",
      " |      Default is \"<openfermion_src_dir>/data\", if populated using a\n",
      " |      OpenFermionMolAdapter.\n",
      " |  \n",
      " |  Methods defined here:\n",
      " |  \n",
      " |  __init__(self, mol_geometry=None, basis='sto-3g', multiplicity=1, charge=0, description='', filename='', hdf5_dir=None)\n",
      " |      Initialize a qforte molecule object.\n",
      " |      \n",
      " |      Arguments\n",
      " |      ---------\n",
      " |      mol_geometry : tuple of tuples\n",
      " |          Gives the coordinates of each atom in the moleucle.\n",
      " |          An example is [('H', (0, 0, 0)), ('H', (0, 0, 0.7414))].\n",
      " |          Distances in angstrom.\n",
      " |      \n",
      " |      basis : string\n",
      " |          Gives the basis set. Default is 'sto-3g'.\n",
      " |      \n",
      " |      charge : int\n",
      " |          Gives the total molecular charge. Defaults to 0.\n",
      " |      \n",
      " |      multiplicity : int\n",
      " |          Gives the spin multiplicity.\n",
      " |      \n",
      " |      description : optional, string\n",
      " |          Gives a description of the molecule.\n",
      " |      \n",
      " |      filename : optional, string\n",
      " |          Gives name of file to use if generating with OpenFermion-Psi4\n",
      " |          or OpenFermion-pyscf.\n",
      " |      \n",
      " |      hdf5_dir : optional, string\n",
      " |          Optional data directory to change from default\n",
      " |          data directory specified in config file if generating with\n",
      " |          OpenFermion-Psi4 or OpenFermion-pyscf.\n",
      " |  \n",
      " |  get_ccsd_amps(self)\n",
      " |  \n",
      " |  get_ccsd_energy(self)\n",
      " |  \n",
      " |  get_cisd_energy(self)\n",
      " |  \n",
      " |  get_fci_energy(self)\n",
      " |  \n",
      " |  get_hamiltonian(self)\n",
      " |  \n",
      " |  get_hf_energy(self)\n",
      " |  \n",
      " |  get_mp2_energy(self)\n",
      " |  \n",
      " |  set_ccsd_amps(self, ccsd_singles, ccsd_doubles)\n",
      " |  \n",
      " |  set_ccsd_energy(self, ccsd_energy)\n",
      " |  \n",
      " |  set_cisd_energy(self, cisd_energy)\n",
      " |  \n",
      " |  set_fci_energy(self, fci_energy)\n",
      " |  \n",
      " |  set_hamiltonian(self, hamiltonain_operator)\n",
      " |  \n",
      " |  set_hf_energy(self, hf_energy)\n",
      " |  \n",
      " |  set_mp2_energy(self, mp2_energy)\n",
      " |  \n",
      " |  ----------------------------------------------------------------------\n",
      " |  Data descriptors defined here:\n",
      " |  \n",
      " |  __dict__\n",
      " |      dictionary for instance variables (if defined)\n",
      " |  \n",
      " |  __weakref__\n",
      " |      list of weak references to the object (if defined)\n",
      "\n"
     ]
    }
   ],
   "source": [
    "Be = adapter.get_molecule()\n",
    "help(type(Be))"
   ]
  },
  {
   "cell_type": "markdown",
   "metadata": {},
   "source": [
    "From the backend, several values are avalible in the molecule for reference."
   ]
  },
  {
   "cell_type": "code",
   "execution_count": 5,
   "metadata": {},
   "outputs": [
    {
     "name": "stdout",
     "output_type": "stream",
     "text": [
      "\n",
      "Qubit Hamiltonian\n",
      " -9.009402[] +2.243229[Z0] -0.038062[Y0 Z1 Y2] -0.038062[X0 Z1 X2] +2.243229[Z1] -0.038062[Y1 Z2 Y3] -0.038062[X1 Z2 X3] -0.046692[Z2] -0.046692[Z3] -0.148432[Z4] -0.148432[Z5] -0.148432[Z6] -0.148432[Z7] -0.148432[Z8] -0.148432[Z9] +0.568833[Z0 Z1] -0.063333[Y0 Y2] -0.063333[X0 X2] -0.063333[Z0 Y1 Z2 Y3] -0.063333[Z0 X1 Z2 X3] +0.011074[Y0 X1 X2 Y3] -0.011074[X0 X1 Y2 Y3] -0.011074[Y0 Y1 X2 X3] +0.011074[X0 Y1 Y2 X3] +0.003900[Y0 X1 X4 Y5] -0.003900[X0 X1 Y4 Y5] -0.003900[Y0 Y1 X4 X5] +0.003900[X0 Y1 Y4 X5] +0.003900[Y0 X1 X6 Y7] -0.003900[X0 X1 Y6 Y7] -0.003900[Y0 Y1 X6 X7] +0.003900[X0 Y1 Y6 X7] +0.003900[Y0 X1 X8 Y9] -0.003900[X0 X1 Y8 Y9] -0.003900[Y0 Y1 X8 X9] +0.003900[X0 Y1 Y8 X9] +0.131735[Z0 Z2] +0.142809[Z0 Z3] -0.003561[Y0 Z1 Y2 Z3] -0.003561[X0 Z1 X2 Z3] -0.005141[Y0 Z1 Z2 X3 X4 Y5] +0.005141[X0 Z1 Z2 X3 Y4 Y5] +0.005141[Y0 Z1 Z2 Y3 X4 X5] -0.005141[X0 Z1 Z2 Y3 Y4 X5] -0.005141[Y0 Z1 Z2 X3 X6 Y7] +0.005141[X0 Z1 Z2 X3 Y6 Y7] +0.005141[Y0 Z1 Z2 Y3 X6 X7] -0.005141[X0 Z1 Z2 Y3 Y6 X7] -0.005141[Y0 Z1 Z2 X3 X8 Y9] +0.005141[X0 Z1 Z2 X3 Y8 Y9] +0.005141[Y0 Z1 Z2 Y3 X8 X9] -0.005141[X0 Z1 Z2 Y3 Y8 X9] +0.138407[Z0 Z4] -0.007376[Y0 Z1 Y2 Z4] -0.007376[X0 Z1 X2 Z4] +0.142307[Z0 Z5] -0.002235[Y0 Z1 Y2 Z5] -0.002235[X0 Z1 X2 Z5] +0.138407[Z0 Z6] -0.007376[Y0 Z1 Y2 Z6] -0.007376[X0 Z1 X2 Z6] +0.142307[Z0 Z7] -0.002235[Y0 Z1 Y2 Z7] -0.002235[X0 Z1 X2 Z7] +0.138407[Z0 Z8] -0.007376[Y0 Z1 Y2 Z8] -0.007376[X0 Z1 X2 Z8] +0.142307[Z0 Z9] -0.002235[Y0 Z1 Y2 Z9] -0.002235[X0 Z1 X2 Z9] +0.142809[Z1 Z2] -0.003561[Y1 Y3] -0.003561[X1 X3] +0.005141[Y1 X2 X4 Y5] +0.005141[X1 X2 X4 X5] +0.005141[Y1 Y2 Y4 Y5] +0.005141[X1 Y2 Y4 X5] +0.005141[Y1 X2 X6 Y7] +0.005141[X1 X2 X6 X7] +0.005141[Y1 Y2 Y6 Y7] +0.005141[X1 Y2 Y6 X7] +0.005141[Y1 X2 X8 Y9] +0.005141[X1 X2 X8 X9] +0.005141[Y1 Y2 Y8 Y9] +0.005141[X1 Y2 Y8 X9] +0.131735[Z1 Z3] +0.142307[Z1 Z4] -0.002235[Y1 Z2 Y3 Z4] -0.002235[X1 Z2 X3 Z4] +0.138407[Z1 Z5] -0.007376[Y1 Z2 Y3 Z5] -0.007376[X1 Z2 X3 Z5] +0.142307[Z1 Z6] -0.002235[Y1 Z2 Y3 Z6] -0.002235[X1 Z2 X3 Z6] +0.138407[Z1 Z7] -0.007376[Y1 Z2 Y3 Z7] -0.007376[X1 Z2 X3 Z7] +0.142307[Z1 Z8] -0.002235[Y1 Z2 Y3 Z8] -0.002235[X1 Z2 X3 Z8] +0.138407[Z1 Z9] -0.007376[Y1 Z2 Y3 Z9] -0.007376[X1 Z2 X3 Z9] +0.101034[Z2 Z3] +0.021702[Y2 X3 X4 Y5] -0.021702[X2 X3 Y4 Y5] -0.021702[Y2 Y3 X4 X5] +0.021702[X2 Y3 Y4 X5] +0.021702[Y2 X3 X6 Y7] -0.021702[X2 X3 Y6 Y7] -0.021702[Y2 Y3 X6 X7] +0.021702[X2 Y3 Y6 X7] +0.021702[Y2 X3 X8 Y9] -0.021702[X2 X3 Y8 Y9] -0.021702[Y2 Y3 X8 X9] +0.021702[X2 Y3 Y8 X9] +0.080697[Z2 Z4] +0.102399[Z2 Z5] +0.080697[Z2 Z6] +0.102399[Z2 Z7] +0.080697[Z2 Z8] +0.102399[Z2 Z9] +0.102399[Z3 Z4] +0.080697[Z3 Z5] +0.102399[Z3 Z6] +0.080697[Z3 Z7] +0.102399[Z3 Z8] +0.080697[Z3 Z9] +0.112465[Z4 Z5] +0.006062[Y4 X5 X6 Y7] -0.006062[X4 X5 Y6 Y7] -0.006062[Y4 Y5 X6 X7] +0.006062[X4 Y5 Y6 X7] +0.006062[Y4 X5 X8 Y9] -0.006062[X4 X5 Y8 Y9] -0.006062[Y4 Y5 X8 X9] +0.006062[X4 Y5 Y8 X9] +0.094278[Z4 Z6] +0.100340[Z4 Z7] +0.094278[Z4 Z8] +0.100340[Z4 Z9] +0.100340[Z5 Z6] +0.094278[Z5 Z7] +0.100340[Z5 Z8] +0.094278[Z5 Z9] +0.112465[Z6 Z7] +0.006062[Y6 X7 X8 Y9] -0.006062[X6 X7 Y8 Y9] -0.006062[Y6 Y7 X8 X9] +0.006062[X6 Y7 Y8 X9] +0.094278[Z6 Z8] +0.100340[Z6 Z9] +0.100340[Z7 Z8] +0.094278[Z7 Z9] +0.112465[Z8 Z9]\n",
      "\n",
      "Psi4 Energies\n",
      "---------------------------------------------------\n",
      "hf_energy:                      -14.35188047620202\n",
      "mp2_energy:                     -14.376238433837921\n",
      "ccsd_energy:                    -14.403650748983889\n",
      "fci_energy:                     -14.403655108067653\n"
     ]
    }
   ],
   "source": [
    "# Hamiltonian\n",
    "Hamiltonian = Be.get_hamiltonian()\n",
    "print('\\nQubit Hamiltonian\\n', Hamiltonian.str())\n",
    "\n",
    "# Various energies from psi4 specified in run args\n",
    "print('\\nPsi4 Energies')\n",
    "print('---------------------------------------------------')\n",
    "print('hf_energy:                     ', Be.get_hf_energy())\n",
    "print('mp2_energy:                    ', Be.get_mp2_energy())\n",
    "print('ccsd_energy:                   ', Be.get_ccsd_energy())\n",
    "print('fci_energy:                    ', Be.get_fci_energy())"
   ]
  },
  {
   "cell_type": "markdown",
   "metadata": {},
   "source": [
    "# Real Time Evolution Quantum Lanczos"
   ]
  },
  {
   "cell_type": "markdown",
   "metadata": {},
   "source": [
    "This method builds a non-orthoganol Krylov space basis to set up a generalized eigenvalue problem $\\bar{\\mathbf{H}}\\mathbf{C} = \\mathbf{S}\\mathbf{C}\\mathbf{\\epsilon}$. The basis is generated by unitary real-time evolutions of a reference state. The basis vectors are thus given as $| \\Phi_n \\rangle = e^{-i n \\Delta t \\hat{H}}| \\Phi_o \\rangle$. The elemets of the $\\bar{\\mathbf{H}}$ and $\\mathbf{S}$ matrices can be measured using a quantum computer and the diagonalization performed clasically.   "
   ]
  },
  {
   "cell_type": "markdown",
   "metadata": {},
   "source": [
    "Here is a sample calculation for a berillium atom which demonstrates energy convergence with increasing number of basis vectors used."
   ]
  },
  {
   "cell_type": "code",
   "execution_count": 6,
   "metadata": {
    "scrolled": false
   },
   "outputs": [
    {
     "name": "stdout",
     "output_type": "stream",
     "text": [
      "\n",
      "------------------------------------------------\n",
      "                BEGIN QFORTE RTL\n",
      "------------------------------------------------\n",
      "    dt:       0.25\n",
      "    nbasis:   2\n",
      "------------------------------------------------\n",
      "     Matricies for Quantum Real-Time Lanczos\n",
      "------------------------------------------------\n",
      "Nsteps  :  2\n",
      "delta t :      0.25\n",
      "\n",
      "S:\n",
      "\n",
      "              1-0j  0.607923+0.792977j  \n",
      "0.607923-0.792977j      1-1.38778e-15j  \n",
      "\n",
      "Hbar:\n",
      "\n",
      "      -14.3519-0j      -8.72998-11.3768j  \n",
      "-8.72998+11.3768j  -14.3502+2.01751e-14j  \n",
      "\n",
      "RTLanczos (unsorted!) evals from measuring ancilla:\n",
      " [-14.3757807 +2.73036001e-13j -13.27199935+1.23537525e-11j]\n",
      "\n",
      "---------------------------------------------------------\n",
      "hf_energy:                         -14.35188047620202\n",
      "mp2_energy:                        -14.376238433837921\n",
      "ccsd_energy:                       -14.403650748983889\n",
      "fci_energy:                        -14.403655108067653\n",
      "rtl_energy:                        -14.375780695810844\n",
      "\n",
      "------------------------------------------------\n",
      "                BEGIN QFORTE RTL\n",
      "------------------------------------------------\n",
      "    dt:       0.25\n",
      "    nbasis:   4\n",
      "------------------------------------------------\n",
      "     Matricies for Quantum Real-Time Lanczos\n",
      "------------------------------------------------\n",
      "Nsteps  :  4\n",
      "delta t :      0.25\n",
      "\n",
      "S:\n",
      "\n",
      "               1-0j  0.607923+0.792977j  -0.258836+0.962562j  -0.917631+0.378628j  \n",
      " 0.607923-0.792977j      1-1.38778e-15j   0.607894+0.792988j    -0.2589+0.962495j  \n",
      "-0.258836-0.962562j  0.607894-0.792988j       1+1.08247e-15j   0.607841+0.793009j  \n",
      "-0.917631-0.378628j   -0.2589-0.962495j   0.607841-0.793009j       1-3.44169e-15j  \n",
      "\n",
      "Hbar:\n",
      "\n",
      "      -14.3519-0j      -8.72998-11.3768j        3.70236-13.818j       13.1626-5.45187j  \n",
      "-8.72998+11.3768j  -14.3502+2.01751e-14j      -8.72772-11.3742j       3.70142-13.8125j  \n",
      "  3.70236+13.818j      -8.72772+11.3742j  -14.3452-1.51272e-14j       -8.72327-11.369j  \n",
      " 13.1626+5.45187j       3.70142+13.8125j       -8.72327+11.369j  -14.3369+4.93991e-14j  \n",
      "\n",
      "RTLanczos (unsorted!) evals from measuring ancilla:\n",
      " [-14.39231106+5.51079695e-12j -13.77897123+1.01472105e-10j\n",
      "  -9.45840242+7.83525543e-10j]\n",
      "\n",
      "---------------------------------------------------------\n",
      "hf_energy:                         -14.35188047620202\n",
      "mp2_energy:                        -14.376238433837921\n",
      "ccsd_energy:                       -14.403650748983889\n",
      "fci_energy:                        -14.403655108067653\n",
      "rtl_energy:                        -14.392311060434231\n",
      "\n",
      "------------------------------------------------\n",
      "                BEGIN QFORTE RTL\n",
      "------------------------------------------------\n",
      "    dt:       0.25\n",
      "    nbasis:   6\n",
      "------------------------------------------------\n",
      "     Matricies for Quantum Real-Time Lanczos\n",
      "------------------------------------------------\n",
      "Nsteps  :  6\n",
      "delta t :      0.25\n",
      "\n",
      "S:\n",
      "\n",
      "               1-0j   0.607923+0.792977j  -0.258836+0.962562j  -0.917631+0.378628j  -0.853794-0.495043j  -0.125623-0.971422j  \n",
      " 0.607923-0.792977j       1-1.38778e-15j   0.607894+0.792988j    -0.2589+0.962495j  -0.917557+0.378459j  -0.853489-0.495041j  \n",
      "-0.258836-0.962562j   0.607894-0.792988j       1+1.08247e-15j   0.607841+0.793009j  -0.258995+0.962395j   -0.917457+0.37824j  \n",
      "-0.917631-0.378628j    -0.2589-0.962495j   0.607841-0.793009j       1-3.44169e-15j   0.607772+0.793036j  -0.259104+0.962276j  \n",
      "-0.853794+0.495043j  -0.917557-0.378459j  -0.258995-0.962395j   0.607772-0.793036j       1+5.55112e-17j   0.607698+0.793064j  \n",
      "-0.125623+0.971422j  -0.853489+0.495041j   -0.917457-0.37824j  -0.259104-0.962276j   0.607698-0.793064j       1-3.88578e-16j  \n",
      "\n",
      "Hbar:\n",
      "\n",
      "      -14.3519-0j      -8.72998-11.3768j        3.70236-13.818j       13.1626-5.45187j       12.2666+7.08299j       1.83419+13.9382j  \n",
      "-8.72998+11.3768j  -14.3502+2.01751e-14j      -8.72772-11.3742j       3.70142-13.8125j       13.1552-5.44815j       12.2566+7.07745j  \n",
      "  3.70236+13.818j      -8.72772+11.3742j  -14.3452-1.51272e-14j       -8.72327-11.369j       3.69967-13.8035j       13.1443-5.44309j  \n",
      " 13.1626+5.45187j       3.70142+13.8125j       -8.72327+11.369j  -14.3369+4.93991e-14j      -8.71677-11.3612j       3.69687-13.7912j  \n",
      " 12.2666-7.08299j       13.1552+5.44815j       3.69967+13.8035j      -8.71677+11.3612j  -14.3253-1.91598e-15j      -8.70836-11.3506j  \n",
      " 1.83419-13.9382j       12.2566-7.07745j       13.1443+5.44309j       3.69687+13.7912j      -8.70836+11.3506j  -14.3104+5.84326e-15j  \n",
      "\n",
      "RTLanczos (unsorted!) evals from measuring ancilla:\n",
      " [-14.40005828+6.96637005e-11j -13.87639727+8.10456330e-10j\n",
      "  -8.27100172+2.69178317e-08j  -9.97016646+1.19962382e-08j]\n",
      "\n",
      "---------------------------------------------------------\n",
      "hf_energy:                         -14.35188047620202\n",
      "mp2_energy:                        -14.376238433837921\n",
      "ccsd_energy:                       -14.403650748983889\n",
      "fci_energy:                        -14.403655108067653\n",
      "rtl_energy:                        -14.400058281565963\n"
     ]
    }
   ],
   "source": [
    "# First we need a reference state (Hartee-Fock usually). \n",
    "# In QForte, qubits are aranged as [alpha1, beta1, alpha2, beta2, .... ]\n",
    "Be_ref = [1,1,1,1,0,0,0,0,0,0]\n",
    "\n",
    "# Then define parameters, in this case a list of how many N basis vectors to use and the time step.\n",
    "nbasis_vec = [2,4,6]\n",
    "dt = 0.25\n",
    "En_rtl = []\n",
    "\n",
    "for nbasis in nbasis_vec:\n",
    "\n",
    "\n",
    "    print('\\n------------------------------------------------')\n",
    "    print('                BEGIN QFORTE RTL')\n",
    "    print('------------------------------------------------')\n",
    "    print('    dt:      ', dt)\n",
    "    print('    nbasis:  ', nbasis)\n",
    "\n",
    "\n",
    "    RTL_output = rtl_energy(Be, Be_ref, dt, nbasis, print_mats=True, return_all_eigs=True, return_S=True, return_Hbar=True, )\n",
    "    Ertl = RTL_output[0]\n",
    "    S = RTL_output[2]\n",
    "    Hbar = RTL_output[3]\n",
    "\n",
    "    print('\\n---------------------------------------------------------')\n",
    "    print('hf_energy:                        ', Be.get_hf_energy())\n",
    "    print('mp2_energy:                       ', Be.get_mp2_energy())\n",
    "    print('ccsd_energy:                      ', Be.get_ccsd_energy())\n",
    "    print('fci_energy:                       ', Be.get_fci_energy())\n",
    "    print('rtl_energy:                       ', Ertl)\n",
    "\n",
    "    En_rtl.append(Ertl)\n"
   ]
  },
  {
   "cell_type": "markdown",
   "metadata": {},
   "source": [
    "# Some Matplotlib imports"
   ]
  },
  {
   "cell_type": "code",
   "execution_count": 7,
   "metadata": {},
   "outputs": [],
   "source": [
    "%matplotlib inline\n",
    "%matplotlib notebook\n",
    "import matplotlib.pyplot as plt\n",
    "import matplotlib as mpl\n",
    "import mpl_toolkits.axisartist as AA\n",
    "\n",
    "mpl.rc('text', usetex = True)\n",
    "mpl.rc('font',**{'family':'sans-serif','sans-serif':['Helvetica']})\n",
    "mpl.rc('mathtext', fontset='stixsans')\n",
    "mpl.rc('text.latex', preamble=r'\\usepackage{cmbright}')\n",
    "\n",
    "plt.rcParams['font.size'] = 10\n",
    "plt.rcParams['figure.figsize'] = 3.575, 2.65"
   ]
  },
  {
   "cell_type": "code",
   "execution_count": 8,
   "metadata": {},
   "outputs": [
    {
     "name": "stderr",
     "output_type": "stream",
     "text": [
      "/Users/renkehuang/anaconda3/lib/python3.6/site-packages/matplotlib/font_manager.py:1241: UserWarning: findfont: Font family ['sans-serif'] not found. Falling back to DejaVu Sans.\n",
      "  (prop.get_family(), self.defaultFamily[fontext]))\n"
     ]
    },
    {
     "data": {
      "image/png": "[encoded data removed]",
      "text/plain": [
       "<Figure size 432x288 with 1 Axes>"
      ]
     },
     "metadata": {
      "needs_background": "light"
     },
     "output_type": "display_data"
    }
   ],
   "source": [
    "fig, ax = plt.subplots()\n",
    "\n",
    "ax.plot(nbasis_vec  ,  En_rtl   , color = 'C0'     , label='RTL dt=25e-2', linewidth=1.5)\n",
    "ax.set(xlabel=r'N basis states')\n",
    "ax.set(ylabel=r'Energy / \\textit{E}$_{\\mathrm{h}}$')\n",
    "\n",
    "plt.axhline(y=Be.get_fci_energy(), linestyle='dotted',color='black')\n",
    "plt.axhline(y=Be.get_mp2_energy(), linestyle='dotted',color='green')\n",
    "plt.axhline(y=Be.get_hf_energy(),  linestyle='dotted',color='purple')\n",
    "\n",
    "plt.tight_layout()\n",
    "plt.legend()\n",
    "\n",
    "ax.spines['right'].set_color('none')\n",
    "ax.spines['top'].set_color('none')\n",
    "  \n",
    "plt.show()"
   ]
  },
  {
   "cell_type": "markdown",
   "metadata": {},
   "source": [
    "In the words of Garnet Chan, \"Well, we're better than mean field!\""
   ]
  }
 ],
 "metadata": {
  "kernelspec": {
   "display_name": "Python 3",
   "language": "python",
   "name": "python3"
  },
  "language_info": {
   "codemirror_mode": {
    "name": "ipython",
    "version": 3
   },
   "file_extension": ".py",
   "mimetype": "text/x-python",
   "name": "python",
   "nbconvert_exporter": "python",
   "pygments_lexer": "ipython3",
   "version": "3.6.8"
  }
 },
 "nbformat": 4,
 "nbformat_minor": 2
}
