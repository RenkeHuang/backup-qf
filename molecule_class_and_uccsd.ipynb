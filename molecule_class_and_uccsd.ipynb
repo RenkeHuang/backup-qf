{
 "cells": [
  {
   "cell_type": "code",
   "execution_count": 1,
   "metadata": {},
   "outputs": [],
   "source": [
    "import qforte"
   ]
  },
  {
   "cell_type": "markdown",
   "metadata": {},
   "source": [
    "# Example notebook for using QForte molecule class and using UCCSD"
   ]
  },
  {
   "cell_type": "markdown",
   "metadata": {},
   "source": [
    "NOTE: Before running this notebook you will need to have installed Psi4, OpenFermion, and the OpenFermion-Psi4 plugin. There are all avalible via intall through conda-forge and/or pip."
   ]
  },
  {
   "cell_type": "markdown",
   "metadata": {},
   "source": [
    "Initialize a QForte molecule, and specify what backend to use. Currently there is only support for using Openfermion-Psi4, but will eventually include direct conections to Psi4 and Forte. First we need to define some input arguments. "
   ]
  },
  {
   "cell_type": "code",
   "execution_count": 2,
   "metadata": {},
   "outputs": [],
   "source": [
    "# System factory arguments\n",
    "system_type = 'molecule'\n",
    "build_type = 'openfermion'\n",
    "\n",
    "\n",
    "# Molecule arguments\n",
    "geometry = [('H', (0., 0., 0.)), ('H', (0., 0., 0.75))]\n",
    "basis = 'sto-3g'\n",
    "multiplicity = 1\n",
    "\n",
    "\n",
    "# Run arguments for backend\n",
    "run_scf = 1\n",
    "run_mp2 = 1\n",
    "run_ccsd = 1\n",
    "run_fci = 1"
   ]
  },
  {
   "cell_type": "markdown",
   "metadata": {},
   "source": [
    "We need to initialize an adapter object, wichin in trun is able to ruturn a molecule object."
   ]
  },
  {
   "cell_type": "code",
   "execution_count": 3,
   "metadata": {},
   "outputs": [
    {
     "name": "stdout",
     "output_type": "stream",
     "text": [
      "Using standard openfermion hamiltonian ordering!\n"
     ]
    }
   ],
   "source": [
    "# Initialize the adapter (specific to backend and system type)\n",
    "adapter = qforte.system.system_factory(mol_geometry=geometry, basis=basis,\n",
    "                                       multiplicity=1, description='h2_uccsd_test_075')\n",
    "\n",
    "# Populate the attributes by calling run() with backend run args. we can store the ccsd\n",
    "# amplitudes \n",
    "adapter.run(run_scf=run_scf, run_mp2=run_mp2, run_ccsd=run_ccsd,\n",
    "                   run_fci=run_fci, store_uccsd_amps=True)\n"
   ]
  },
  {
   "cell_type": "markdown",
   "metadata": {},
   "source": [
    "Get the molecule from the adapter."
   ]
  },
  {
   "cell_type": "code",
   "execution_count": 4,
   "metadata": {},
   "outputs": [],
   "source": [
    "H2 = adapter.get_molecule()"
   ]
  },
  {
   "cell_type": "markdown",
   "metadata": {},
   "source": [
    "From the backend, several values are avalible in the molecule for reference."
   ]
  },
  {
   "cell_type": "code",
   "execution_count": 5,
   "metadata": {},
   "outputs": [
    {
     "name": "stdout",
     "output_type": "stream",
     "text": [
      "\n",
      "Qubit Hamiltonian\n",
      " -0.109731[] +0.169885[Z0] +0.169885[Z1] -0.218863[Z2] -0.218863[Z3] +0.168212[Z0 Z1] +0.045443[Y0 X1 X2 Y3] -0.045443[X0 X1 Y2 Y3] -0.045443[Y0 Y1 X2 X3] +0.045443[X0 Y1 Y2 X3] +0.120051[Z0 Z2] +0.165494[Z0 Z3] +0.165494[Z1 Z2] +0.120051[Z1 Z3] +0.173954[Z2 Z3]\n",
      "\n",
      "Psi4 Energies\n",
      "---------------------------------------------------\n",
      "hf_energy:                      -1.1161514489141386\n",
      "mp2_energy:                     -1.129524145749418\n",
      "ccsd_energy:                    -1.1371170673687787\n",
      "fci_energy:                     -1.1371170673370452\n"
     ]
    }
   ],
   "source": [
    "# Hamiltonian\n",
    "Hamiltonian = H2.get_hamiltonian()\n",
    "print('\\nQubit Hamiltonian\\n', Hamiltonian.str())\n",
    "\n",
    "# Various energies from psi4 specified in run args\n",
    "print('\\nPsi4 Energies')\n",
    "print('---------------------------------------------------')\n",
    "print('hf_energy:                     ', H2.get_hf_energy())\n",
    "print('mp2_energy:                    ', H2.get_mp2_energy())\n",
    "print('ccsd_energy:                   ', H2.get_ccsd_energy())\n",
    "print('fci_energy:                    ', H2.get_fci_energy())"
   ]
  },
  {
   "cell_type": "markdown",
   "metadata": {},
   "source": [
    "Now we can actually run a method, such as uccsd optemized via VQE. Currently only supports gradient-free optemization such as Nelder-Mead."
   ]
  },
  {
   "cell_type": "code",
   "execution_count": 6,
   "metadata": {},
   "outputs": [
    {
     "ename": "AttributeError",
     "evalue": "module 'qforte.ucc' has no attribute 'uccsd'",
     "output_type": "error",
     "traceback": [
      "\u001b[0;31m---------------------------------------------------------------------------\u001b[0m",
      "\u001b[0;31mAttributeError\u001b[0m                            Traceback (most recent call last)",
      "\u001b[0;32m<ipython-input-6-7bf76b9aa085>\u001b[0m in \u001b[0;36m<module>\u001b[0;34m\u001b[0m\n\u001b[1;32m      3\u001b[0m \u001b[0mref\u001b[0m \u001b[0;34m=\u001b[0m \u001b[0;34m[\u001b[0m\u001b[0;36m1\u001b[0m\u001b[0;34m,\u001b[0m\u001b[0;36m1\u001b[0m\u001b[0;34m,\u001b[0m\u001b[0;36m0\u001b[0m\u001b[0;34m,\u001b[0m\u001b[0;36m0\u001b[0m\u001b[0;34m]\u001b[0m\u001b[0;34m\u001b[0m\u001b[0;34m\u001b[0m\u001b[0m\n\u001b[1;32m      4\u001b[0m \u001b[0;34m\u001b[0m\u001b[0m\n\u001b[0;32m----> 5\u001b[0;31m \u001b[0musscd_energy\u001b[0m \u001b[0;34m=\u001b[0m \u001b[0mqforte\u001b[0m\u001b[0;34m.\u001b[0m\u001b[0mucc\u001b[0m\u001b[0;34m.\u001b[0m\u001b[0muccsd\u001b[0m\u001b[0;34m.\u001b[0m\u001b[0muccsd_ph_energy_opt\u001b[0m\u001b[0;34m(\u001b[0m\u001b[0mH2\u001b[0m\u001b[0;34m,\u001b[0m \u001b[0mref\u001b[0m\u001b[0;34m,\u001b[0m \u001b[0mmaxiter\u001b[0m \u001b[0;34m=\u001b[0m \u001b[0;36m5000\u001b[0m\u001b[0;34m)\u001b[0m\u001b[0;34m\u001b[0m\u001b[0;34m\u001b[0m\u001b[0m\n\u001b[0m",
      "\u001b[0;31mAttributeError\u001b[0m: module 'qforte.ucc' has no attribute 'uccsd'"
     ]
    }
   ],
   "source": [
    "# First we need a reference state (Hartee-Fock usually). \n",
    "# In QForte, qubits are aranged as [alpha1, beta1, alpha2, beta2, .... ]\n",
    "ref = [1,1,0,0]\n",
    "\n",
    "usscd_energy = qforte.ucc.uccsd.uccsd_ph_energy_opt(H2, ref, maxiter = 5000)"
   ]
  }
 ],
 "metadata": {
  "kernelspec": {
   "display_name": "Python 3",
   "language": "python",
   "name": "python3"
  },
  "language_info": {
   "codemirror_mode": {
    "name": "ipython",
    "version": 3
   },
   "file_extension": ".py",
   "mimetype": "text/x-python",
   "name": "python",
   "nbconvert_exporter": "python",
   "pygments_lexer": "ipython3",
   "version": "3.6.8"
  }
 },
 "nbformat": 4,
 "nbformat_minor": 2
}
